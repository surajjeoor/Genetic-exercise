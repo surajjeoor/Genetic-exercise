{
  "nbformat": 4,
  "nbformat_minor": 0,
  "metadata": {
    "colab": {
      "provenance": [],
      "authorship_tag": "ABX9TyMhRmmwzywiorsunHIMCYHH",
      "include_colab_link": true
    },
    "kernelspec": {
      "name": "python3",
      "display_name": "Python 3"
    },
    "language_info": {
      "name": "python"
    }
  },
  "cells": [
    {
      "cell_type": "markdown",
      "metadata": {
        "id": "view-in-github",
        "colab_type": "text"
      },
      "source": [
        "<a href=\"https://colab.research.google.com/github/surajjeoor/Genetic-exercise/blob/main/Genetic_algorithm_tutorial.ipynb\" target=\"_parent\"><img src=\"https://colab.research.google.com/assets/colab-badge.svg\" alt=\"Open In Colab\"/></a>"
      ]
    },
    {
      "cell_type": "code",
      "execution_count": 2,
      "metadata": {
        "id": "t4qZbwO6bgMB"
      },
      "outputs": [],
      "source": [
        "#Code for Genetic Algorithm\n",
        "#credit goes to : https://github.com/kiecodes/genetic-algorithms/blob/master/genetic_time.py\n",
        "from collections import namedtuple\n",
        "from typing import List, Callable, Tuple\n",
        "#Genetic representation of solution\n",
        "import random as rd\n",
        "from functools import partial\n",
        "Genome=List[int] #genome sequences\n",
        "population=List[Genome] #list of genomes\n",
        "Thing=namedtuple('Thing',['name','value','weight']) #objects to be put in the bag\n",
        "FitnessFunc=Callable[[Genome],int]\n",
        "Populatefunc=Callable[[],population]\n",
        "SelectionFunc= Callable[[population,FitnessFunc],Tuple[Genome,Genome]]\n",
        "CrossoverFunc=Callable[[Genome,Genome],Tuple[Genome,Genome]]\n",
        "MutationFunc=Callable[[Genome],Genome]\n",
        "things_1=[Thing('Laptop',500,2000),\n",
        "          Thing('Headphones',150,160),\n",
        "          Thing('Coffee Mug',60,30),\n",
        "          Thing('Notepad',40,33),\n",
        "          Thing('Water Bottle',30,192)]\n",
        "\n",
        "more_things=[Thing('hoodie',10,20),\n",
        "             Thing('Sleeping bag',30,120),\n",
        "             Thing('hat',5,30),\n",
        "             Thing('wallet',4,10)]+things_1\n",
        "def gen_Genome(length):\n",
        "  for i in range(length):\n",
        "    return rd.choices([0,1],k=length)"
      ]
    },
    {
      "cell_type": "code",
      "source": [
        "#the function to generate new solutions\n",
        "def generate_population(size,genome_length):\n",
        "  return [gen_Genome(genome_length) for _ in range(size)]"
      ],
      "metadata": {
        "id": "MpbXsqgI-kI_"
      },
      "execution_count": 3,
      "outputs": []
    },
    {
      "cell_type": "code",
      "source": [
        "#the fitness function to evaluate the solutions\n",
        "def fitness(genome:Genome,things,weight_lim):\n",
        "  if len(genome)!=len(things):\n",
        "    raise ValueError(\"Genome and things must be of the same length\")\n",
        "\n",
        "  weight=0\n",
        "  value=0\n",
        "\n",
        "  for i, thing, in enumerate(things):\n",
        "    if genome[i]==1:\n",
        "      weight+=thing.weight\n",
        "      value+=thing.value\n",
        "\n",
        "      if weight>weight_lim:\n",
        "        return 0\n",
        "\n",
        "  return value\n",
        "\n",
        "\n",
        "\n"
      ],
      "metadata": {
        "id": "ltZNpX_e_pGu"
      },
      "execution_count": 4,
      "outputs": []
    },
    {
      "cell_type": "code",
      "source": [
        "#Selection function is to select particular solution for the next generation\n",
        "def selection_pair(population,fitness_func):\n",
        "  #solution for the highest fitness function should be selected\n",
        "  return rd.choices(population, weights=[fitness_func(genome) for genome in population],k=2)\n",
        " \n"
      ],
      "metadata": {
        "id": "iWnEz8xfLfNm"
      },
      "execution_count": 5,
      "outputs": []
    },
    {
      "cell_type": "code",
      "source": [
        "#single point crossover\n",
        "def single_point_crossover(Genome1,Genome2):\n",
        "  if(len(Genome1)!=len(Genome2)):\n",
        "    raise ValueError(\"Length of Genome sizes should be the same\")\n",
        "\n",
        "  length=len(Genome1)\n",
        "\n",
        "  if length<2:\n",
        "    return  Genome1,Genome2\n",
        "\n",
        "  p=rd.randint(1,length-1)\n",
        "  return Genome1[0:p]+Genome2[p:],Genome2[0:p]+Genome1[p:]\n"
      ],
      "metadata": {
        "id": "69qQ4hg3QAs8"
      },
      "execution_count": 6,
      "outputs": []
    },
    {
      "cell_type": "code",
      "source": [
        "  #mutation\n",
        "\n",
        "  def Mutation(Genome,num,probability=0.5):\n",
        "    for _ in range(num):\n",
        "      index=rd.randrange(len(Genome))\n",
        "      Genome[index]=Genome[index] if rd.random()>probability else abs[Genome[index]-1]\n",
        "\n",
        "    return Genome"
      ],
      "metadata": {
        "id": "C23oxo8UU-wj"
      },
      "execution_count": 7,
      "outputs": []
    },
    {
      "cell_type": "code",
      "source": [
        "#run the evolution for genetic algorithm\n",
        "def run_evolution(Populate_func:Populatefunc,fitness_lim,fitness_func:FitnessFunc,selection_func:SelectionFunc=selection_pair,crossover_func:CrossoverFunc=single_point_crossover,mutation_func:Mutation=Mutation,gen_lim=100):\n",
        "  population=Populate_func()\n",
        "\n",
        "  for i in range(gen_lim):\n",
        "    population=sorted(population,key=lambda genome:fitness_func(genome),reverse=True)\n",
        "\n",
        "    if fitness_func(population[0])>=fitness_lim:\n",
        "      break\n",
        "\n",
        "    next_gen=population[0:2]\n",
        "\n",
        "    for j in range(int((len(population)/2)-1)):\n",
        "      parents=selection_func(population,fitness_func)\n",
        "      offsrping_a,offspring_b=crossover_func(parents[0],parents[1])\n",
        "      next_gen+=[offsrping_a,offspring_b]\n",
        "\n",
        "    population=sorted(population,key=lambda genome:fitness_func(genome),reverse=True)\n",
        "\n",
        "  return population,i+1\n",
        "\n",
        "\n"
      ],
      "metadata": {
        "id": "VmvheptmdkaH"
      },
      "execution_count": 8,
      "outputs": []
    },
    {
      "cell_type": "code",
      "source": [
        "x=partial(generate_population,size=10,genome_length=len(things_1))\n",
        "print(\"\\n\",x)\n",
        "print(\"\\n\",type(x))\n",
        "fx=partial(fitness,things=things_1,weight_lim=3000)\n",
        "print(\"\\n \\n\",fx)\n",
        "print(\"\\n\",type(fx))"
      ],
      "metadata": {
        "colab": {
          "base_uri": "https://localhost:8080/"
        },
        "id": "EY1hfLLCXmmk",
        "outputId": "41af12c9-445a-4d19-845f-8a4a30629816"
      },
      "execution_count": 9,
      "outputs": [
        {
          "output_type": "stream",
          "name": "stdout",
          "text": [
            "\n",
            " functools.partial(<function generate_population at 0x7f0ae446bc10>, size=10, genome_length=5)\n",
            "\n",
            " <class 'functools.partial'>\n",
            "\n",
            " \n",
            " functools.partial(<function fitness at 0x7f0ae4434280>, things=[Thing(name='Laptop', value=500, weight=2000), Thing(name='Headphones', value=150, weight=160), Thing(name='Coffee Mug', value=60, weight=30), Thing(name='Notepad', value=40, weight=33), Thing(name='Water Bottle', value=30, weight=192)], weight_lim=3000)\n",
            "\n",
            " <class 'functools.partial'>\n"
          ]
        }
      ]
    },
    {
      "cell_type": "code",
      "source": [
        "import time\n",
        "start_time=time.time()\n",
        "populations,generations=run_evolution(Populate_func=x,\n",
        "                                      fitness_func=partial(fitness,things=things_1,weight_lim=2000),\n",
        "                                      fitness_lim=740,\n",
        "                                      gen_lim=100)\n",
        "end_time=time.time()\n",
        "\n",
        "def genome_to_things(Genome,things):\n",
        "  result=[]\n",
        "  for i, thing in enumerate(things):\n",
        "    if Genome[i]==1:\n",
        "      result+=[thing.name]\n",
        "      \n",
        "  return result\n",
        "\n",
        "print(f\"number of generations: {generations}\")\n",
        "print(f\"best solution:{genome_to_things(populations[0],things_1)}\")\n",
        "print(f\"Elapsed time : {end_time-start_time}\")\n",
        "\n",
        "# print(populations[0])\n"
      ],
      "metadata": {
        "colab": {
          "base_uri": "https://localhost:8080/"
        },
        "id": "UfXwJ1VMix0H",
        "outputId": "959817c1-daaa-44a2-a1d7-c3124daef363"
      },
      "execution_count": 23,
      "outputs": [
        {
          "output_type": "stream",
          "name": "stdout",
          "text": [
            "number of generations: 99\n",
            "best solution:['Headphones', 'Coffee Mug', 'Notepad', 'Water Bottle']\n",
            "Elapsed time : 0.016300678253173828\n"
          ]
        }
      ]
    }
  ]
}